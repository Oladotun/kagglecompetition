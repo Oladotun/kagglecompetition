{
 "cells": [
  {
   "cell_type": "code",
   "execution_count": 2,
   "metadata": {},
   "outputs": [],
   "source": [
    "import pandas as pd\n",
    "\n",
    "train_info = pd.read_csv(\"train_transaction.csv\")\n",
    "test_info = pd.read_csv(\"test_transaction.csv\")"
   ]
  },
  {
   "cell_type": "code",
   "execution_count": 3,
   "metadata": {},
   "outputs": [],
   "source": [
    "trainedWithDummies = pd.get_dummies(train_info, columns=[\"ProductCD\",\"card4\",\"card6\"])\n",
    "\n",
    "testWithDummies = pd.get_dummies(test_info, columns=[\"ProductCD\",\"card4\",\"card6\"])\n",
    "\n",
    "X_train = trainedWithDummies.drop(columns=\"isFraud\")\n",
    "y_train = trainedWithDummies[\"isFraud\"]"
   ]
  },
  {
   "cell_type": "code",
   "execution_count": null,
   "metadata": {},
   "outputs": [],
   "source": [
    "from sklearn.linear_model import LogisticRegression\n",
    "\n",
    "model = LogisticRegression(penalty='l1') ## LASSO \n",
    "result = model.fit(X_train, y_train)\n",
    "\n"
   ]
  },
  {
   "cell_type": "code",
   "execution_count": null,
   "metadata": {},
   "outputs": [],
   "source": [
    "from sklearn.model_selection import GridSearchCV\n",
    "\n",
    "#param_grid = {'C': [0.001, 0.01, 0.1, 1, 10, 100, 1000] }\n",
    "clf = GridSearchCV(cv=None,\n",
    "             estimator=LogisticRegression(C=1.0, intercept_scaling=1,   \n",
    "               dual=False, fit_intercept=True, penalty='l1', tol=0.0001),\n",
    "             param_grid={'C': [0.001, 0.01, 0.1, 1, 10, 100, 1000]})\n",
    "\n",
    "resultclf = clf.fit(X_train, y_train) "
   ]
  },
  {
   "cell_type": "code",
   "execution_count": null,
   "metadata": {},
   "outputs": [],
   "source": [
    "#from sklearn import metrics\n",
    "prediction_test = model.predict(testWithDummies)\n",
    "#print (metrics.accuracy_score(y_test, prediction_test))\n",
    "\n",
    "prediction_test_clf = clf.predict(testWithDummies)\n",
    "#print (metrics.accuracy_score(y_test, prediction_test_clf))\n",
    "\n",
    "## To get the weights of all the variables\n",
    "weights = pd.Series(model.coef_[0],index=X_train.columns.values)\n",
    "weightSorted = weights.sort_values(ascending = False)\n",
    "\n",
    "\n",
    "weights_clf = pd.Series( clf.best_estimator_.coef_[0],index=X_train.columns.values)\n",
    "weightSorted_clf = weights_clf.sort_values(ascending = False) "
   ]
  }
 ],
 "metadata": {
  "kernelspec": {
   "display_name": "Python 3",
   "language": "python",
   "name": "python3"
  },
  "language_info": {
   "codemirror_mode": {
    "name": "ipython",
    "version": 3
   },
   "file_extension": ".py",
   "mimetype": "text/x-python",
   "name": "python",
   "nbconvert_exporter": "python",
   "pygments_lexer": "ipython3",
   "version": "3.7.3"
  }
 },
 "nbformat": 4,
 "nbformat_minor": 2
}
